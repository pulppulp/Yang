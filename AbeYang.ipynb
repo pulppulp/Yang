{
 "cells": [
  {
   "cell_type": "code",
   "execution_count": 1,
   "metadata": {
    "collapsed": true
   },
   "outputs": [],
   "source": [
    "import nltk\n",
    "from nltk.corpus.reader import CHILDESCorpusReader\n",
    "import numpy as np\n",
    "import pandas as pd\n",
    "from nltk.probability import FreqDist\n",
    "corpus = nltk.data.find('/Users/Ershui13/nltk_data/corpora/childescorpus/')\n",
    "Abe = CHILDESCorpusReader(corpus, 'Kuczaj/.*.xml')"
   ]
  },
  {
   "cell_type": "code",
   "execution_count": 7,
   "metadata": {},
   "outputs": [],
   "source": [
    "words = Abe.words(speaker = ['MOT'])"
   ]
  },
  {
   "cell_type": "code",
   "execution_count": 79,
   "metadata": {},
   "outputs": [
    {
     "data": {
      "text/plain": [
       "52828"
      ]
     },
     "execution_count": 79,
     "metadata": {},
     "output_type": "execute_result"
    }
   ],
   "source": [
    "len(words)"
   ]
  },
  {
   "cell_type": "code",
   "execution_count": 93,
   "metadata": {},
   "outputs": [
    {
     "data": {
      "text/plain": [
       "nltk.collections.LazyConcatenation"
      ]
     },
     "execution_count": 93,
     "metadata": {},
     "output_type": "execute_result"
    }
   ],
   "source": [
    "type(words)"
   ]
  },
  {
   "cell_type": "code",
   "execution_count": 75,
   "metadata": {},
   "outputs": [],
   "source": [
    "tag_words = Abe.tagged_words(speaker = ['MOT'])\n",
    "verbs =[]"
   ]
  },
  {
   "cell_type": "code",
   "execution_count": 77,
   "metadata": {},
   "outputs": [],
   "source": [
    "for pair in tag_words:\n",
    "    if pair[-1] == 'v':\n",
    "        verbs.append(pair[0])"
   ]
  },
  {
   "cell_type": "code",
   "execution_count": 81,
   "metadata": {},
   "outputs": [],
   "source": [
    "fvmother = FreqDist(verbs)"
   ]
  },
  {
   "cell_type": "code",
   "execution_count": 9,
   "metadata": {},
   "outputs": [],
   "source": [
    "fdmother = FreqDist(words)"
   ]
  },
  {
   "cell_type": "code",
   "execution_count": 82,
   "metadata": {
    "collapsed": true
   },
   "outputs": [],
   "source": [
    "zipfverb = fvmother.most_common(300)\n",
    "dfverb = DataFrame(zipfverb)\n",
    "dfverb.columns = ['verb','count']"
   ]
  },
  {
   "cell_type": "code",
   "execution_count": 83,
   "metadata": {
    "collapsed": true
   },
   "outputs": [],
   "source": [
    "dfverb['rank'] = rank"
   ]
  },
  {
   "cell_type": "code",
   "execution_count": 12,
   "metadata": {
    "collapsed": true
   },
   "outputs": [
    {
     "data": {
      "text/plain": [
       "[('you', 3007),\n",
       " ('the', 1507),\n",
       " ('to', 1364),\n",
       " ('it', 1363),\n",
       " ('a', 1191),\n",
       " ('I', 1146),\n",
       " ('what', 1042),\n",
       " ('do', 827),\n",
       " ('that', 688),\n",
       " ('and', 681),\n",
       " ('Abe', 600),\n",
       " ('okay', 596),\n",
       " ('your', 543),\n",
       " ('we', 507),\n",
       " ('did', 505),\n",
       " ('in', 490),\n",
       " ('uhhuh', 481),\n",
       " ('on', 471),\n",
       " ('want', 452),\n",
       " ('are', 441),\n",
       " ('oh', 404),\n",
       " ('go', 403),\n",
       " (\"don't\", 402),\n",
       " ('like', 391),\n",
       " ('is', 377),\n",
       " ('can', 363),\n",
       " ('get', 352),\n",
       " (\"that's\", 339),\n",
       " ('this', 319),\n",
       " (\"it's\", 318),\n",
       " ('of', 306),\n",
       " ('have', 305),\n",
       " ('going', 301),\n",
       " ('me', 291),\n",
       " ('think', 291),\n",
       " ('for', 286),\n",
       " ('they', 283),\n",
       " ('one', 278),\n",
       " ('how', 269),\n",
       " ('just', 269),\n",
       " ('see', 267),\n",
       " ('was', 252),\n",
       " ('he', 249),\n",
       " ('no', 248),\n",
       " ('would', 247),\n",
       " ('with', 244),\n",
       " ('yeah', 241),\n",
       " ('be', 237),\n",
       " ('some', 236),\n",
       " ('why', 232),\n",
       " ('here', 231),\n",
       " (\"I'm\", 230),\n",
       " ('all', 221),\n",
       " ('if', 218),\n",
       " ('eat', 217),\n",
       " ('when', 215),\n",
       " ('know', 213),\n",
       " ('put', 211),\n",
       " (\"you're\", 201),\n",
       " ('have_to', 197),\n",
       " ('right', 193),\n",
       " ('not', 190),\n",
       " ('Daddy', 188),\n",
       " ('up', 180),\n",
       " ('so', 180),\n",
       " ('at', 176),\n",
       " ('tell', 175),\n",
       " (\"I'll\", 170),\n",
       " ('good', 169),\n",
       " ('there', 166),\n",
       " ('where', 166),\n",
       " ('them', 164),\n",
       " ('about', 159),\n",
       " ('make', 158),\n",
       " ('come', 155),\n",
       " ('look', 155),\n",
       " ('too', 154),\n",
       " ('now', 148),\n",
       " ('out', 143),\n",
       " ('really', 140),\n",
       " ('', 133),\n",
       " ('were', 133),\n",
       " (\"didn't\", 132),\n",
       " ('then', 132),\n",
       " ('sure', 131),\n",
       " ('because', 126),\n",
       " ('little', 120),\n",
       " ('who', 109),\n",
       " ('will', 107),\n",
       " ('off', 105),\n",
       " ('or', 103),\n",
       " ('my', 101),\n",
       " ('but', 99),\n",
       " ('more', 99),\n",
       " ('huh', 99),\n",
       " ('him', 99),\n",
       " ('well', 98),\n",
       " ('got', 98),\n",
       " ('say', 96),\n",
       " ('big', 95),\n",
       " ('does', 94),\n",
       " ('need', 93),\n",
       " (\"they're\", 92),\n",
       " ('those', 91),\n",
       " ('time', 89),\n",
       " (\"we'll\", 88),\n",
       " (\"what's\", 88),\n",
       " ('take', 84),\n",
       " (\"let's\", 83),\n",
       " ('Dad', 83),\n",
       " (\"we're\", 82),\n",
       " ('today', 80),\n",
       " ('any', 79),\n",
       " ('let', 78),\n",
       " ('use', 74),\n",
       " (\"can't\", 71),\n",
       " ('long', 71),\n",
       " ('ready', 70),\n",
       " ('thought', 70),\n",
       " ('play', 68),\n",
       " ('remember', 67),\n",
       " ('his', 67),\n",
       " ('over', 67),\n",
       " ('find', 66),\n",
       " ('these', 65),\n",
       " ('pretty', 65),\n",
       " ('else', 64),\n",
       " ('our', 62),\n",
       " ('could', 61),\n",
       " ('two', 61),\n",
       " ('down', 61),\n",
       " ('ahead', 60),\n",
       " ('water', 59),\n",
       " ('an', 58),\n",
       " ('nice', 58),\n",
       " ('said', 57),\n",
       " ('first', 57),\n",
       " ('saw', 56),\n",
       " ('wait', 56),\n",
       " (\"doesn't\", 56),\n",
       " ('made', 56),\n",
       " ('school', 55),\n",
       " ('second', 55),\n",
       " ('way', 55),\n",
       " ('outside', 54),\n",
       " ('milk', 54),\n",
       " ('had', 54),\n",
       " ('looks', 54),\n",
       " (\"won't\", 52),\n",
       " (\"he's\", 51),\n",
       " ('help', 51),\n",
       " ('still', 51),\n",
       " ('hey', 50),\n",
       " ('she', 50),\n",
       " (\"you'll\", 48),\n",
       " ('wow', 48),\n",
       " ('show', 48),\n",
       " ('done', 47),\n",
       " ('kind', 46),\n",
       " (\"isn't\", 46),\n",
       " ('picture', 46),\n",
       " ('happened', 46),\n",
       " ('cut', 46),\n",
       " ('cheese', 46),\n",
       " ('went', 45),\n",
       " ('tomorrow', 45),\n",
       " ('very', 45),\n",
       " (\"there's\", 45),\n",
       " ('another', 45),\n",
       " ('out_of', 44),\n",
       " ('as', 44),\n",
       " ('doing', 44),\n",
       " ('other', 43),\n",
       " ('until', 43),\n",
       " ('through', 43),\n",
       " ('something', 42),\n",
       " ('last', 42),\n",
       " ('while', 41),\n",
       " ('gonna', 41),\n",
       " ('back', 41),\n",
       " ('getting', 41),\n",
       " ('after', 41),\n",
       " ('better', 41),\n",
       " ('from', 41),\n",
       " ('maybe', 40),\n",
       " ('yet', 40),\n",
       " ('should', 40),\n",
       " ('real', 39),\n",
       " ('a_lot_of', 39),\n",
       " ('her', 38),\n",
       " ('try', 38),\n",
       " (\"here's\", 37),\n",
       " (\"aren't\", 37),\n",
       " ('paper', 37),\n",
       " ('mean', 37),\n",
       " ('night', 36),\n",
       " ('butter', 35),\n",
       " ('around', 35),\n",
       " ('idea', 35),\n",
       " ('dinner', 34),\n",
       " ('tonight', 34),\n",
       " ('pick', 34),\n",
       " ('morning', 34),\n",
       " ('table', 34),\n",
       " ('home', 34),\n",
       " ('house', 34),\n",
       " (\"who's\", 34),\n",
       " ('fish', 34),\n",
       " ('before', 34),\n",
       " ('together', 34),\n",
       " ('many', 34),\n",
       " ('hot', 33),\n",
       " ('give', 33),\n",
       " ('yogurt', 33),\n",
       " ('things', 32),\n",
       " ('paint', 32),\n",
       " ('different', 32),\n",
       " ('much', 31),\n",
       " ('eating', 31),\n",
       " ('bread', 31),\n",
       " ('which', 31),\n",
       " ('might', 31),\n",
       " ('work', 31),\n",
       " ('hard', 31),\n",
       " ('found', 30),\n",
       " ('leave', 30),\n",
       " ('again', 30),\n",
       " ('by', 30),\n",
       " ('probably', 30),\n",
       " ('read', 30),\n",
       " ('so_that', 29),\n",
       " ('guess', 29),\n",
       " ('store', 29),\n",
       " ('keep', 29),\n",
       " ('later', 28),\n",
       " ('has', 28),\n",
       " ('color', 28),\n",
       " ('called', 28),\n",
       " ('cream', 28),\n",
       " ('people', 28),\n",
       " ('stuff', 28),\n",
       " ('already', 27),\n",
       " ('hair', 27),\n",
       " ('cold', 27),\n",
       " ('taste', 27),\n",
       " ('enough', 27),\n",
       " ('Texas', 27),\n",
       " ('top', 27),\n",
       " ('new', 27),\n",
       " ('Stan', 26),\n",
       " ('ones', 26),\n",
       " ('bed', 26),\n",
       " ('wanted', 26),\n",
       " ('been', 26),\n",
       " ('trying', 26),\n",
       " ('wear', 26),\n",
       " ('floor', 25),\n",
       " ('thank_you', 25),\n",
       " ('peanut', 25),\n",
       " ('feel', 25),\n",
       " ('am', 25),\n",
       " ('us', 25),\n",
       " ('same', 25),\n",
       " ('throw', 25),\n",
       " ('ask', 25),\n",
       " ('tacos', 25),\n",
       " (\"I'd\", 25),\n",
       " ('part', 25),\n",
       " ('three', 25),\n",
       " ('hurt', 25),\n",
       " ('old', 25),\n",
       " ('anything', 24),\n",
       " ('shirt', 24),\n",
       " ('red', 24),\n",
       " ('fix', 24),\n",
       " ('book', 24),\n",
       " (\"wouldn't\", 24),\n",
       " ('makes', 24),\n",
       " (\"you'd\", 24),\n",
       " ('boy', 23),\n",
       " ('bear', 23),\n",
       " ('five', 23),\n",
       " ('stay', 23),\n",
       " ('day', 23),\n",
       " ('making', 23),\n",
       " ('wanna', 23),\n",
       " ('lunch', 23),\n",
       " (\"it'll\", 23),\n",
       " ('honey', 23),\n",
       " ('hear', 23),\n",
       " ('their', 23),\n",
       " ('head', 23),\n",
       " ('ice', 22),\n",
       " ('hope', 22),\n",
       " ('almost', 22),\n",
       " ('dry', 22),\n",
       " (\"where's\", 22),\n",
       " ('ever', 22),\n",
       " ('bet', 22),\n",
       " (\"one's\", 22)]"
      ]
     },
     "execution_count": 12,
     "metadata": {},
     "output_type": "execute_result"
    }
   ],
   "source": [
    "fdmother.most_common(300)"
   ]
  },
  {
   "cell_type": "code",
   "execution_count": 42,
   "metadata": {},
   "outputs": [
    {
     "data": {
      "text/plain": [
       "300"
      ]
     },
     "execution_count": 42,
     "metadata": {},
     "output_type": "execute_result"
    }
   ],
   "source": [
    "rank = list(range(1,301))\n",
    "rank[-1]"
   ]
  },
  {
   "cell_type": "code",
   "execution_count": 43,
   "metadata": {},
   "outputs": [],
   "source": [
    "dfzip['rank'] = rank"
   ]
  },
  {
   "cell_type": "code",
   "execution_count": 13,
   "metadata": {
    "collapsed": true
   },
   "outputs": [],
   "source": [
    "zipfmother = fdmother.most_common(300)"
   ]
  },
  {
   "cell_type": "code",
   "execution_count": 15,
   "metadata": {},
   "outputs": [],
   "source": [
    "from pandas import DataFrame  \n",
    "dfzip = DataFrame(zipfmother)"
   ]
  },
  {
   "cell_type": "code",
   "execution_count": 19,
   "metadata": {},
   "outputs": [],
   "source": [
    "dfzip.columns = ['word','count']"
   ]
  },
  {
   "cell_type": "code",
   "execution_count": 20,
   "metadata": {
    "collapsed": true
   },
   "outputs": [],
   "source": [
    "import seaborn as sns\n",
    "import matplotlib.pyplot as plt\n",
    "from scipy import stats"
   ]
  },
  {
   "cell_type": "code",
   "execution_count": 30,
   "metadata": {
    "scrolled": false
   },
   "outputs": [
    {
     "data": {
      "image/png": "[encoded data removed]",
      "text/plain": [
       "<Figure size 1080x720 with 1 Axes>"
      ]
     },
     "metadata": {},
     "output_type": "display_data"
    }
   ],
   "source": [
    "count = dfzip[['count']].plot(kind = 'bar', title = 'distribution', figsize = (15,10), legend = True)\n",
    "count.set_xlabel('word',fontsize = 12)\n",
    "count.set_ylabel('count',fontsize = 12)\n",
    "plt.show()"
   ]
  },
  {
   "cell_type": "code",
   "execution_count": 45,
   "metadata": {},
   "outputs": [
    {
     "ename": "ImportError",
     "evalue": "cannot import name 'PowerTransformer'",
     "output_type": "error",
     "traceback": [
      "\u001b[0;31m---------------------------------------------------------------------------\u001b[0m",
      "\u001b[0;31mImportError\u001b[0m                               Traceback (most recent call last)",
      "\u001b[0;32m<ipython-input-45-dec331745ae3>\u001b[0m in \u001b[0;36m<module>\u001b[0;34m()\u001b[0m\n\u001b[1;32m      2\u001b[0m \u001b[0;32mimport\u001b[0m \u001b[0mmatplotlib\u001b[0m\u001b[0;34m.\u001b[0m\u001b[0mpyplot\u001b[0m \u001b[0;32mas\u001b[0m \u001b[0mplt\u001b[0m\u001b[0;34m\u001b[0m\u001b[0;34m\u001b[0m\u001b[0m\n\u001b[1;32m      3\u001b[0m \u001b[0;34m\u001b[0m\u001b[0m\n\u001b[0;32m----> 4\u001b[0;31m \u001b[0;32mfrom\u001b[0m \u001b[0msklearn\u001b[0m\u001b[0;34m.\u001b[0m\u001b[0mpreprocessing\u001b[0m \u001b[0;32mimport\u001b[0m \u001b[0mPowerTransformer\u001b[0m\u001b[0;34m\u001b[0m\u001b[0;34m\u001b[0m\u001b[0m\n\u001b[0m\u001b[1;32m      5\u001b[0m \u001b[0;32mfrom\u001b[0m \u001b[0msklearn\u001b[0m\u001b[0;34m.\u001b[0m\u001b[0mpreprocessing\u001b[0m \u001b[0;32mimport\u001b[0m \u001b[0mQuantileTransformer\u001b[0m\u001b[0;34m\u001b[0m\u001b[0;34m\u001b[0m\u001b[0m\n\u001b[1;32m      6\u001b[0m \u001b[0;32mfrom\u001b[0m \u001b[0msklearn\u001b[0m\u001b[0;34m.\u001b[0m\u001b[0mmodel_selection\u001b[0m \u001b[0;32mimport\u001b[0m \u001b[0mtrain_test_split\u001b[0m\u001b[0;34m\u001b[0m\u001b[0;34m\u001b[0m\u001b[0m\n",
      "\u001b[0;31mImportError\u001b[0m: cannot import name 'PowerTransformer'"
     ]
    }
   ],
   "source": [
    "import numpy as np\n",
    "import matplotlib.pyplot as plt\n",
    "\n",
    "from sklearn.preprocessing import PowerTransformer\n",
    "from sklearn.preprocessing import QuantileTransformer\n",
    "from sklearn.model_selection import train_test_split"
   ]
  },
  {
   "cell_type": "code",
   "execution_count": 46,
   "metadata": {},
   "outputs": [
    {
     "data": {
      "image/png": "[encoded data removed]",
      "text/plain": [
       "<Figure size 432x288 with 1 Axes>"
      ]
     },
     "metadata": {},
     "output_type": "display_data"
    },
    {
     "data": {
      "image/png": "[encoded data removed]",
      "text/plain": [
       "<Figure size 432x288 with 1 Axes>"
      ]
     },
     "metadata": {},
     "output_type": "display_data"
    }
   ],
   "source": [
    "import numpy as np\n",
    "\n",
    "import matplotlib.pyplot as plt\n",
    "import matplotlib.ticker as mtick\n",
    "\n",
    "x = dfzip['rank']\n",
    "\n",
    "y = dfzip['count']\n",
    "\n",
    "fig, ax = plt.subplots()\n",
    "\n",
    "ax.loglog(x,y, basex=np.e, basey=np.e)\n",
    "\n",
    "def ticks(y, pos):\n",
    "    return r'$e^{:.0f}$'.format(np.log(y))\n",
    "\n",
    "ax.xaxis.set_major_formatter(mtick.FuncFormatter(ticks))\n",
    "ax.yaxis.set_major_formatter(mtick.FuncFormatter(ticks))\n",
    "\n",
    "plt.show()"
   ]
  },
  {
   "cell_type": "code",
   "execution_count": 47,
   "metadata": {},
   "outputs": [
    {
     "data": {
      "image/png": "[encoded data removed]",
      "text/plain": [
       "<Figure size 432x288 with 1 Axes>"
      ]
     },
     "metadata": {},
     "output_type": "display_data"
    }
   ],
   "source": [
    "fig, ax1 = plt.subplots()\n",
    "\n",
    "ax1.loglog(x,y, basex=2, basey=2)\n",
    "\n",
    "def ticks(y, pos):\n",
    "    return r'$e^{:.0f}$'.format(np.log(y))\n",
    "\n",
    "ax1.xaxis.set_major_formatter(mtick.FuncFormatter(ticks))\n",
    "ax1.yaxis.set_major_formatter(mtick.FuncFormatter(ticks))\n",
    "\n",
    "plt.show()"
   ]
  },
  {
   "cell_type": "code",
   "execution_count": 48,
   "metadata": {},
   "outputs": [
    {
     "data": {
      "image/png": "[encoded data removed]",
      "text/plain": [
       "<Figure size 432x288 with 1 Axes>"
      ]
     },
     "metadata": {},
     "output_type": "display_data"
    }
   ],
   "source": [
    "fig, ax2 = plt.subplots()\n",
    "\n",
    "ax2.loglog(x,y, basex=3, basey=3)\n",
    "\n",
    "def ticks(y, pos):\n",
    "    return r'$e^{:.0f}$'.format(np.log(y))\n",
    "\n",
    "ax2.xaxis.set_major_formatter(mtick.FuncFormatter(ticks))\n",
    "ax2.yaxis.set_major_formatter(mtick.FuncFormatter(ticks))\n",
    "\n",
    "plt.show()"
   ]
  },
  {
   "cell_type": "code",
   "execution_count": 49,
   "metadata": {},
   "outputs": [
    {
     "data": {
      "image/png": "[encoded data removed]",
      "text/plain": [
       "<Figure size 432x288 with 1 Axes>"
      ]
     },
     "metadata": {},
     "output_type": "display_data"
    }
   ],
   "source": [
    "fig, ax2 = plt.subplots()\n",
    "\n",
    "ax2.loglog(x,y, basex=10, basey=10)\n",
    "\n",
    "def ticks(y, pos):\n",
    "    return r'$e^{:.0f}$'.format(np.log(y))\n",
    "\n",
    "ax2.xaxis.set_major_formatter(mtick.FuncFormatter(ticks))\n",
    "ax2.yaxis.set_major_formatter(mtick.FuncFormatter(ticks))\n",
    "\n",
    "plt.show()"
   ]
  },
  {
   "cell_type": "code",
   "execution_count": 50,
   "metadata": {
    "collapsed": true
   },
   "outputs": [],
   "source": [
    "from scipy.optimize import curve_fit\n",
    "from scipy.special import zetac\n",
    "\n",
    "\n",
    "def f(x, a):\n",
    "    return (x**-a)/zetac(a)\n",
    "\n",
    "\n",
    "result = curve_fit(f, x, y, p0=[0.56])\n",
    "p = result[0]\n"
   ]
  },
  {
   "cell_type": "code",
   "execution_count": 51,
   "metadata": {},
   "outputs": [
    {
     "data": {
      "text/plain": [
       "array([11.56780958])"
      ]
     },
     "execution_count": 51,
     "metadata": {},
     "output_type": "execute_result"
    }
   ],
   "source": [
    "p"
   ]
  },
  {
   "cell_type": "code",
   "execution_count": 52,
   "metadata": {},
   "outputs": [
    {
     "data": {
      "text/plain": [
       "(array([11.56780958]), array([[0.01408578]]))"
      ]
     },
     "execution_count": 52,
     "metadata": {},
     "output_type": "execute_result"
    }
   ],
   "source": [
    "result"
   ]
  },
  {
   "cell_type": "code",
   "execution_count": 58,
   "metadata": {},
   "outputs": [],
   "source": [
    "from scipy.stats import powerlaw"
   ]
  },
  {
   "cell_type": "code",
   "execution_count": 73,
   "metadata": {},
   "outputs": [],
   "source": [
    "dfzip.head()\n",
    "dflog = dfzip[['rank','count']]\n",
    "dflog = dflog.apply(np.log)\n",
    "dflog.head()\n",
    "dfzip.to_csv('/Users/Ershui13/Desktop/dfzip.csv',index=False)"
   ]
  },
  {
   "cell_type": "code",
   "execution_count": 70,
   "metadata": {
    "collapsed": true
   },
   "outputs": [
    {
     "ename": "AssertionError",
     "evalue": "",
     "output_type": "error",
     "traceback": [
      "\u001b[0;31m---------------------------------------------------------------------------\u001b[0m",
      "\u001b[0;31mAssertionError\u001b[0m                            Traceback (most recent call last)",
      "\u001b[0;32m<ipython-input-70-53ab87ff2f59>\u001b[0m in \u001b[0;36m<module>\u001b[0;34m()\u001b[0m\n\u001b[1;32m      1\u001b[0m \u001b[0;32mimport\u001b[0m \u001b[0mstatsmodels\u001b[0m\u001b[0;34m.\u001b[0m\u001b[0mapi\u001b[0m \u001b[0;32mas\u001b[0m \u001b[0msma\u001b[0m\u001b[0;34m\u001b[0m\u001b[0;34m\u001b[0m\u001b[0m\n\u001b[1;32m      2\u001b[0m \u001b[0;32mimport\u001b[0m \u001b[0mstatsmodels\u001b[0m\u001b[0;34m.\u001b[0m\u001b[0mformula\u001b[0m\u001b[0;34m.\u001b[0m\u001b[0mapi\u001b[0m \u001b[0;32mas\u001b[0m \u001b[0msmf\u001b[0m\u001b[0;34m\u001b[0m\u001b[0;34m\u001b[0m\u001b[0m\n\u001b[0;32m----> 3\u001b[0;31m \u001b[0mols1fit\u001b[0m \u001b[0;34m=\u001b[0m \u001b[0msmf\u001b[0m\u001b[0;34m.\u001b[0m\u001b[0mols\u001b[0m\u001b[0;34m(\u001b[0m\u001b[0;34m'count ~ 1+ rank'\u001b[0m\u001b[0;34m,\u001b[0m \u001b[0mdata\u001b[0m\u001b[0;34m=\u001b[0m\u001b[0mdflog\u001b[0m\u001b[0;34m)\u001b[0m\u001b[0;34m.\u001b[0m\u001b[0mfit\u001b[0m\u001b[0;34m(\u001b[0m\u001b[0;34m)\u001b[0m\u001b[0;34m\u001b[0m\u001b[0;34m\u001b[0m\u001b[0m\n\u001b[0m",
      "\u001b[0;32m~/anaconda3/lib/python3.6/site-packages/statsmodels/base/model.py\u001b[0m in \u001b[0;36mfrom_formula\u001b[0;34m(cls, formula, data, subset, drop_cols, *args, **kwargs)\u001b[0m\n\u001b[1;32m    153\u001b[0m \u001b[0;34m\u001b[0m\u001b[0m\n\u001b[1;32m    154\u001b[0m         tmp = handle_formula_data(data, None, formula, depth=eval_env,\n\u001b[0;32m--> 155\u001b[0;31m                                   missing=missing)\n\u001b[0m\u001b[1;32m    156\u001b[0m         \u001b[0;34m(\u001b[0m\u001b[0;34m(\u001b[0m\u001b[0mendog\u001b[0m\u001b[0;34m,\u001b[0m \u001b[0mexog\u001b[0m\u001b[0;34m)\u001b[0m\u001b[0;34m,\u001b[0m \u001b[0mmissing_idx\u001b[0m\u001b[0;34m,\u001b[0m \u001b[0mdesign_info\u001b[0m\u001b[0;34m)\u001b[0m \u001b[0;34m=\u001b[0m \u001b[0mtmp\u001b[0m\u001b[0;34m\u001b[0m\u001b[0;34m\u001b[0m\u001b[0m\n\u001b[1;32m    157\u001b[0m \u001b[0;34m\u001b[0m\u001b[0m\n",
      "\u001b[0;32m~/anaconda3/lib/python3.6/site-packages/statsmodels/formula/formulatools.py\u001b[0m in \u001b[0;36mhandle_formula_data\u001b[0;34m(Y, X, formula, depth, missing)\u001b[0m\n\u001b[1;32m     63\u001b[0m         \u001b[0;32mif\u001b[0m \u001b[0mdata_util\u001b[0m\u001b[0;34m.\u001b[0m\u001b[0m_is_using_pandas\u001b[0m\u001b[0;34m(\u001b[0m\u001b[0mY\u001b[0m\u001b[0;34m,\u001b[0m \u001b[0;32mNone\u001b[0m\u001b[0;34m)\u001b[0m\u001b[0;34m:\u001b[0m\u001b[0;34m\u001b[0m\u001b[0;34m\u001b[0m\u001b[0m\n\u001b[1;32m     64\u001b[0m             result = dmatrices(formula, Y, depth, return_type='dataframe',\n\u001b[0;32m---> 65\u001b[0;31m                                NA_action=na_action)\n\u001b[0m\u001b[1;32m     66\u001b[0m         \u001b[0;32melse\u001b[0m\u001b[0;34m:\u001b[0m\u001b[0;34m\u001b[0m\u001b[0;34m\u001b[0m\u001b[0m\n\u001b[1;32m     67\u001b[0m             result = dmatrices(formula, Y, depth, return_type='dataframe',\n",
      "\u001b[0;32m~/anaconda3/lib/python3.6/site-packages/patsy/highlevel.py\u001b[0m in \u001b[0;36mdmatrices\u001b[0;34m(formula_like, data, eval_env, NA_action, return_type)\u001b[0m\n\u001b[1;32m    308\u001b[0m     \u001b[0meval_env\u001b[0m \u001b[0;34m=\u001b[0m \u001b[0mEvalEnvironment\u001b[0m\u001b[0;34m.\u001b[0m\u001b[0mcapture\u001b[0m\u001b[0;34m(\u001b[0m\u001b[0meval_env\u001b[0m\u001b[0;34m,\u001b[0m \u001b[0mreference\u001b[0m\u001b[0;34m=\u001b[0m\u001b[0;36m1\u001b[0m\u001b[0;34m)\u001b[0m\u001b[0;34m\u001b[0m\u001b[0;34m\u001b[0m\u001b[0m\n\u001b[1;32m    309\u001b[0m     (lhs, rhs) = _do_highlevel_design(formula_like, data, eval_env,\n\u001b[0;32m--> 310\u001b[0;31m                                       NA_action, return_type)\n\u001b[0m\u001b[1;32m    311\u001b[0m     \u001b[0;32mif\u001b[0m \u001b[0mlhs\u001b[0m\u001b[0;34m.\u001b[0m\u001b[0mshape\u001b[0m\u001b[0;34m[\u001b[0m\u001b[0;36m1\u001b[0m\u001b[0;34m]\u001b[0m \u001b[0;34m==\u001b[0m \u001b[0;36m0\u001b[0m\u001b[0;34m:\u001b[0m\u001b[0;34m\u001b[0m\u001b[0;34m\u001b[0m\u001b[0m\n\u001b[1;32m    312\u001b[0m         \u001b[0;32mraise\u001b[0m \u001b[0mPatsyError\u001b[0m\u001b[0;34m(\u001b[0m\u001b[0;34m\"model is missing required outcome variables\"\u001b[0m\u001b[0;34m)\u001b[0m\u001b[0;34m\u001b[0m\u001b[0;34m\u001b[0m\u001b[0m\n",
      "\u001b[0;32m~/anaconda3/lib/python3.6/site-packages/patsy/highlevel.py\u001b[0m in \u001b[0;36m_do_highlevel_design\u001b[0;34m(formula_like, data, eval_env, NA_action, return_type)\u001b[0m\n\u001b[1;32m    163\u001b[0m         \u001b[0;32mreturn\u001b[0m \u001b[0miter\u001b[0m\u001b[0;34m(\u001b[0m\u001b[0;34m[\u001b[0m\u001b[0mdata\u001b[0m\u001b[0;34m]\u001b[0m\u001b[0;34m)\u001b[0m\u001b[0;34m\u001b[0m\u001b[0;34m\u001b[0m\u001b[0m\n\u001b[1;32m    164\u001b[0m     design_infos = _try_incr_builders(formula_like, data_iter_maker, eval_env,\n\u001b[0;32m--> 165\u001b[0;31m                                       NA_action)\n\u001b[0m\u001b[1;32m    166\u001b[0m     \u001b[0;32mif\u001b[0m \u001b[0mdesign_infos\u001b[0m \u001b[0;32mis\u001b[0m \u001b[0;32mnot\u001b[0m \u001b[0;32mNone\u001b[0m\u001b[0;34m:\u001b[0m\u001b[0;34m\u001b[0m\u001b[0;34m\u001b[0m\u001b[0m\n\u001b[1;32m    167\u001b[0m         return build_design_matrices(design_infos, data,\n",
      "\u001b[0;32m~/anaconda3/lib/python3.6/site-packages/patsy/highlevel.py\u001b[0m in \u001b[0;36m_try_incr_builders\u001b[0;34m(formula_like, data_iter_maker, eval_env, NA_action)\u001b[0m\n\u001b[1;32m     60\u001b[0m                 \"ascii-only, or else upgrade to Python 3.\")\n\u001b[1;32m     61\u001b[0m     \u001b[0;32mif\u001b[0m \u001b[0misinstance\u001b[0m\u001b[0;34m(\u001b[0m\u001b[0mformula_like\u001b[0m\u001b[0;34m,\u001b[0m \u001b[0mstr\u001b[0m\u001b[0;34m)\u001b[0m\u001b[0;34m:\u001b[0m\u001b[0;34m\u001b[0m\u001b[0;34m\u001b[0m\u001b[0m\n\u001b[0;32m---> 62\u001b[0;31m         \u001b[0mformula_like\u001b[0m \u001b[0;34m=\u001b[0m \u001b[0mModelDesc\u001b[0m\u001b[0;34m.\u001b[0m\u001b[0mfrom_formula\u001b[0m\u001b[0;34m(\u001b[0m\u001b[0mformula_like\u001b[0m\u001b[0;34m)\u001b[0m\u001b[0;34m\u001b[0m\u001b[0;34m\u001b[0m\u001b[0m\n\u001b[0m\u001b[1;32m     63\u001b[0m         \u001b[0;31m# fallthrough\u001b[0m\u001b[0;34m\u001b[0m\u001b[0;34m\u001b[0m\u001b[0;34m\u001b[0m\u001b[0m\n\u001b[1;32m     64\u001b[0m     \u001b[0;32mif\u001b[0m \u001b[0misinstance\u001b[0m\u001b[0;34m(\u001b[0m\u001b[0mformula_like\u001b[0m\u001b[0;34m,\u001b[0m \u001b[0mModelDesc\u001b[0m\u001b[0;34m)\u001b[0m\u001b[0;34m:\u001b[0m\u001b[0;34m\u001b[0m\u001b[0;34m\u001b[0m\u001b[0m\n",
      "\u001b[0;32m~/anaconda3/lib/python3.6/site-packages/patsy/desc.py\u001b[0m in \u001b[0;36mfrom_formula\u001b[0;34m(cls, tree_or_string)\u001b[0m\n\u001b[1;32m    162\u001b[0m             \u001b[0mtree\u001b[0m \u001b[0;34m=\u001b[0m \u001b[0mtree_or_string\u001b[0m\u001b[0;34m\u001b[0m\u001b[0;34m\u001b[0m\u001b[0m\n\u001b[1;32m    163\u001b[0m         \u001b[0;32melse\u001b[0m\u001b[0;34m:\u001b[0m\u001b[0;34m\u001b[0m\u001b[0;34m\u001b[0m\u001b[0m\n\u001b[0;32m--> 164\u001b[0;31m             \u001b[0mtree\u001b[0m \u001b[0;34m=\u001b[0m \u001b[0mparse_formula\u001b[0m\u001b[0;34m(\u001b[0m\u001b[0mtree_or_string\u001b[0m\u001b[0;34m)\u001b[0m\u001b[0;34m\u001b[0m\u001b[0;34m\u001b[0m\u001b[0m\n\u001b[0m\u001b[1;32m    165\u001b[0m         \u001b[0mvalue\u001b[0m \u001b[0;34m=\u001b[0m \u001b[0mEvaluator\u001b[0m\u001b[0;34m(\u001b[0m\u001b[0;34m)\u001b[0m\u001b[0;34m.\u001b[0m\u001b[0meval\u001b[0m\u001b[0;34m(\u001b[0m\u001b[0mtree\u001b[0m\u001b[0;34m,\u001b[0m \u001b[0mrequire_evalexpr\u001b[0m\u001b[0;34m=\u001b[0m\u001b[0;32mFalse\u001b[0m\u001b[0;34m)\u001b[0m\u001b[0;34m\u001b[0m\u001b[0;34m\u001b[0m\u001b[0m\n\u001b[1;32m    166\u001b[0m         \u001b[0;32massert\u001b[0m \u001b[0misinstance\u001b[0m\u001b[0;34m(\u001b[0m\u001b[0mvalue\u001b[0m\u001b[0;34m,\u001b[0m \u001b[0mcls\u001b[0m\u001b[0;34m)\u001b[0m\u001b[0;34m\u001b[0m\u001b[0;34m\u001b[0m\u001b[0m\n",
      "\u001b[0;32m~/anaconda3/lib/python3.6/site-packages/patsy/parse_formula.py\u001b[0m in \u001b[0;36mparse_formula\u001b[0;34m(code, extra_operators)\u001b[0m\n\u001b[1;32m    146\u001b[0m     tree = infix_parse(_tokenize_formula(code, operator_strings),\n\u001b[1;32m    147\u001b[0m                        \u001b[0moperators\u001b[0m\u001b[0;34m,\u001b[0m\u001b[0;34m\u001b[0m\u001b[0;34m\u001b[0m\u001b[0m\n\u001b[0;32m--> 148\u001b[0;31m                        _atomic_token_types)\n\u001b[0m\u001b[1;32m    149\u001b[0m     \u001b[0;32mif\u001b[0m \u001b[0;32mnot\u001b[0m \u001b[0misinstance\u001b[0m\u001b[0;34m(\u001b[0m\u001b[0mtree\u001b[0m\u001b[0;34m,\u001b[0m \u001b[0mParseNode\u001b[0m\u001b[0;34m)\u001b[0m \u001b[0;32mor\u001b[0m \u001b[0mtree\u001b[0m\u001b[0;34m.\u001b[0m\u001b[0mtype\u001b[0m \u001b[0;34m!=\u001b[0m \u001b[0;34m\"~\"\u001b[0m\u001b[0;34m:\u001b[0m\u001b[0;34m\u001b[0m\u001b[0;34m\u001b[0m\u001b[0m\n\u001b[1;32m    150\u001b[0m         \u001b[0mtree\u001b[0m \u001b[0;34m=\u001b[0m \u001b[0mParseNode\u001b[0m\u001b[0;34m(\u001b[0m\u001b[0;34m\"~\"\u001b[0m\u001b[0;34m,\u001b[0m \u001b[0;32mNone\u001b[0m\u001b[0;34m,\u001b[0m \u001b[0;34m[\u001b[0m\u001b[0mtree\u001b[0m\u001b[0;34m]\u001b[0m\u001b[0;34m,\u001b[0m \u001b[0mtree\u001b[0m\u001b[0;34m.\u001b[0m\u001b[0morigin\u001b[0m\u001b[0;34m)\u001b[0m\u001b[0;34m\u001b[0m\u001b[0;34m\u001b[0m\u001b[0m\n",
      "\u001b[0;32m~/anaconda3/lib/python3.6/site-packages/patsy/infix_parser.py\u001b[0m in \u001b[0;36minfix_parse\u001b[0;34m(tokens, operators, atomic_types, trace)\u001b[0m\n\u001b[1;32m    208\u001b[0m \u001b[0;34m\u001b[0m\u001b[0m\n\u001b[1;32m    209\u001b[0m     \u001b[0mwant_noun\u001b[0m \u001b[0;34m=\u001b[0m \u001b[0;32mTrue\u001b[0m\u001b[0;34m\u001b[0m\u001b[0;34m\u001b[0m\u001b[0m\n\u001b[0;32m--> 210\u001b[0;31m     \u001b[0;32mfor\u001b[0m \u001b[0mtoken\u001b[0m \u001b[0;32min\u001b[0m \u001b[0mtoken_source\u001b[0m\u001b[0;34m:\u001b[0m\u001b[0;34m\u001b[0m\u001b[0;34m\u001b[0m\u001b[0m\n\u001b[0m\u001b[1;32m    211\u001b[0m         \u001b[0;32mif\u001b[0m \u001b[0mc\u001b[0m\u001b[0;34m.\u001b[0m\u001b[0mtrace\u001b[0m\u001b[0;34m:\u001b[0m\u001b[0;34m\u001b[0m\u001b[0;34m\u001b[0m\u001b[0m\n\u001b[1;32m    212\u001b[0m             \u001b[0mprint\u001b[0m\u001b[0;34m(\u001b[0m\u001b[0;34m\"Reading next token (want_noun=%r)\"\u001b[0m \u001b[0;34m%\u001b[0m \u001b[0;34m(\u001b[0m\u001b[0mwant_noun\u001b[0m\u001b[0;34m,\u001b[0m\u001b[0;34m)\u001b[0m\u001b[0;34m)\u001b[0m\u001b[0;34m\u001b[0m\u001b[0;34m\u001b[0m\u001b[0m\n",
      "\u001b[0;32m~/anaconda3/lib/python3.6/site-packages/patsy/parse_formula.py\u001b[0m in \u001b[0;36m_tokenize_formula\u001b[0;34m(code, operator_strings)\u001b[0m\n\u001b[1;32m     92\u001b[0m         \u001b[0;32melse\u001b[0m\u001b[0;34m:\u001b[0m\u001b[0;34m\u001b[0m\u001b[0;34m\u001b[0m\u001b[0m\n\u001b[1;32m     93\u001b[0m             \u001b[0mit\u001b[0m\u001b[0;34m.\u001b[0m\u001b[0mpush_back\u001b[0m\u001b[0;34m(\u001b[0m\u001b[0;34m(\u001b[0m\u001b[0mpytype\u001b[0m\u001b[0;34m,\u001b[0m \u001b[0mtoken_string\u001b[0m\u001b[0;34m,\u001b[0m \u001b[0morigin\u001b[0m\u001b[0;34m)\u001b[0m\u001b[0;34m)\u001b[0m\u001b[0;34m\u001b[0m\u001b[0;34m\u001b[0m\u001b[0m\n\u001b[0;32m---> 94\u001b[0;31m             \u001b[0;32myield\u001b[0m \u001b[0m_read_python_expr\u001b[0m\u001b[0;34m(\u001b[0m\u001b[0mit\u001b[0m\u001b[0;34m,\u001b[0m \u001b[0mend_tokens\u001b[0m\u001b[0;34m)\u001b[0m\u001b[0;34m\u001b[0m\u001b[0;34m\u001b[0m\u001b[0m\n\u001b[0m\u001b[1;32m     95\u001b[0m \u001b[0;34m\u001b[0m\u001b[0m\n\u001b[1;32m     96\u001b[0m \u001b[0;32mdef\u001b[0m \u001b[0mtest__tokenize_formula\u001b[0m\u001b[0;34m(\u001b[0m\u001b[0;34m)\u001b[0m\u001b[0;34m:\u001b[0m\u001b[0;34m\u001b[0m\u001b[0;34m\u001b[0m\u001b[0m\n",
      "\u001b[0;32m~/anaconda3/lib/python3.6/site-packages/patsy/parse_formula.py\u001b[0m in \u001b[0;36m_read_python_expr\u001b[0;34m(it, end_tokens)\u001b[0m\n\u001b[1;32m     42\u001b[0m     \u001b[0morigins\u001b[0m \u001b[0;34m=\u001b[0m \u001b[0;34m[\u001b[0m\u001b[0;34m]\u001b[0m\u001b[0;34m\u001b[0m\u001b[0;34m\u001b[0m\u001b[0m\n\u001b[1;32m     43\u001b[0m     \u001b[0mbracket_level\u001b[0m \u001b[0;34m=\u001b[0m \u001b[0;36m0\u001b[0m\u001b[0;34m\u001b[0m\u001b[0;34m\u001b[0m\u001b[0m\n\u001b[0;32m---> 44\u001b[0;31m     \u001b[0;32mfor\u001b[0m \u001b[0mpytype\u001b[0m\u001b[0;34m,\u001b[0m \u001b[0mtoken_string\u001b[0m\u001b[0;34m,\u001b[0m \u001b[0morigin\u001b[0m \u001b[0;32min\u001b[0m \u001b[0mit\u001b[0m\u001b[0;34m:\u001b[0m\u001b[0;34m\u001b[0m\u001b[0;34m\u001b[0m\u001b[0m\n\u001b[0m\u001b[1;32m     45\u001b[0m         \u001b[0;32massert\u001b[0m \u001b[0mbracket_level\u001b[0m \u001b[0;34m>=\u001b[0m \u001b[0;36m0\u001b[0m\u001b[0;34m\u001b[0m\u001b[0;34m\u001b[0m\u001b[0m\n\u001b[1;32m     46\u001b[0m         \u001b[0;32mif\u001b[0m \u001b[0mbracket_level\u001b[0m \u001b[0;34m==\u001b[0m \u001b[0;36m0\u001b[0m \u001b[0;32mand\u001b[0m \u001b[0mtoken_string\u001b[0m \u001b[0;32min\u001b[0m \u001b[0mend_tokens\u001b[0m\u001b[0;34m:\u001b[0m\u001b[0;34m\u001b[0m\u001b[0;34m\u001b[0m\u001b[0m\n",
      "\u001b[0;32m~/anaconda3/lib/python3.6/site-packages/patsy/util.py\u001b[0m in \u001b[0;36mnext\u001b[0;34m(self)\u001b[0m\n\u001b[1;32m    330\u001b[0m         \u001b[0;32melse\u001b[0m\u001b[0;34m:\u001b[0m\u001b[0;34m\u001b[0m\u001b[0;34m\u001b[0m\u001b[0m\n\u001b[1;32m    331\u001b[0m             \u001b[0;31m# May raise StopIteration\u001b[0m\u001b[0;34m\u001b[0m\u001b[0;34m\u001b[0m\u001b[0;34m\u001b[0m\u001b[0m\n\u001b[0;32m--> 332\u001b[0;31m             \u001b[0;32mreturn\u001b[0m \u001b[0msix\u001b[0m\u001b[0;34m.\u001b[0m\u001b[0madvance_iterator\u001b[0m\u001b[0;34m(\u001b[0m\u001b[0mself\u001b[0m\u001b[0;34m.\u001b[0m\u001b[0m_it\u001b[0m\u001b[0;34m)\u001b[0m\u001b[0;34m\u001b[0m\u001b[0;34m\u001b[0m\u001b[0m\n\u001b[0m\u001b[1;32m    333\u001b[0m     \u001b[0m__next__\u001b[0m \u001b[0;34m=\u001b[0m \u001b[0mnext\u001b[0m\u001b[0;34m\u001b[0m\u001b[0;34m\u001b[0m\u001b[0m\n\u001b[1;32m    334\u001b[0m \u001b[0;34m\u001b[0m\u001b[0m\n",
      "\u001b[0;32m~/anaconda3/lib/python3.6/site-packages/patsy/tokens.py\u001b[0m in \u001b[0;36mpython_tokenize\u001b[0;34m(code)\u001b[0m\n\u001b[1;32m     33\u001b[0m                 \u001b[0;32mbreak\u001b[0m\u001b[0;34m\u001b[0m\u001b[0;34m\u001b[0m\u001b[0m\n\u001b[1;32m     34\u001b[0m             \u001b[0morigin\u001b[0m \u001b[0;34m=\u001b[0m \u001b[0mOrigin\u001b[0m\u001b[0;34m(\u001b[0m\u001b[0mcode\u001b[0m\u001b[0;34m,\u001b[0m \u001b[0mstart\u001b[0m\u001b[0;34m,\u001b[0m \u001b[0mend\u001b[0m\u001b[0;34m)\u001b[0m\u001b[0;34m\u001b[0m\u001b[0;34m\u001b[0m\u001b[0m\n\u001b[0;32m---> 35\u001b[0;31m             \u001b[0;32massert\u001b[0m \u001b[0mpytype\u001b[0m \u001b[0;32mnot\u001b[0m \u001b[0;32min\u001b[0m \u001b[0;34m(\u001b[0m\u001b[0mtokenize\u001b[0m\u001b[0;34m.\u001b[0m\u001b[0mNL\u001b[0m\u001b[0;34m,\u001b[0m \u001b[0mtokenize\u001b[0m\u001b[0;34m.\u001b[0m\u001b[0mNEWLINE\u001b[0m\u001b[0;34m)\u001b[0m\u001b[0;34m\u001b[0m\u001b[0;34m\u001b[0m\u001b[0m\n\u001b[0m\u001b[1;32m     36\u001b[0m             \u001b[0;32mif\u001b[0m \u001b[0mpytype\u001b[0m \u001b[0;34m==\u001b[0m \u001b[0mtokenize\u001b[0m\u001b[0;34m.\u001b[0m\u001b[0mERRORTOKEN\u001b[0m\u001b[0;34m:\u001b[0m\u001b[0;34m\u001b[0m\u001b[0;34m\u001b[0m\u001b[0m\n\u001b[1;32m     37\u001b[0m                 raise PatsyError(\"error tokenizing input \"\n",
      "\u001b[0;31mAssertionError\u001b[0m: "
     ]
    }
   ],
   "source": [
    "import statsmodels.api as sma\n",
    "import statsmodels.formula.api as smf\n",
    "ols1fit = smf.ols('count ~ 1+ rank', data=dflog).fit()"
   ]
  },
  {
   "cell_type": "code",
   "execution_count": 84,
   "metadata": {},
   "outputs": [
    {
     "data": {
      "image/png": "[encoded data removed]",
      "text/plain": [
       "<Figure size 1080x720 with 1 Axes>"
      ]
     },
     "metadata": {},
     "output_type": "display_data"
    }
   ],
   "source": [
    "count = dfverb[['count']].plot(kind = 'bar', title = 'distribution', figsize = (15,10), legend = True)\n",
    "count.set_xlabel('verb',fontsize = 12)\n",
    "count.set_ylabel('count',fontsize = 12)\n",
    "plt.show()"
   ]
  },
  {
   "cell_type": "code",
   "execution_count": 85,
   "metadata": {
    "collapsed": true
   },
   "outputs": [],
   "source": [
    "dfverb.to_csv('/Users/Ershui13/Desktop/dfverb.csv',index=False)"
   ]
  },
  {
   "cell_type": "code",
   "execution_count": 86,
   "metadata": {
    "collapsed": true
   },
   "outputs": [],
   "source": [
    "twonine_files = Abe.fileids()[0:5] "
   ]
  },
  {
   "cell_type": "code",
   "execution_count": 87,
   "metadata": {},
   "outputs": [
    {
     "data": {
      "text/plain": [
       "['Kuczaj/020424.xml',\n",
       " 'Kuczaj/020500.xml',\n",
       " 'Kuczaj/020507.xml',\n",
       " 'Kuczaj/020510.xml',\n",
       " 'Kuczaj/020514.xml']"
      ]
     },
     "execution_count": 87,
     "metadata": {},
     "output_type": "execute_result"
    }
   ],
   "source": [
    "twonine_files"
   ]
  },
  {
   "cell_type": "code",
   "execution_count": 92,
   "metadata": {},
   "outputs": [
    {
     "data": {
      "text/plain": [
       "[29]"
      ]
     },
     "execution_count": 92,
     "metadata": {},
     "output_type": "execute_result"
    }
   ],
   "source": [
    "Abe.age( 'Kuczaj/020514.xml',month=True)"
   ]
  },
  {
   "cell_type": "code",
   "execution_count": 95,
   "metadata": {},
   "outputs": [],
   "source": [
    "words29 = []\n",
    "for file in twonine_files:\n",
    "    words = Abe.words(file, speaker = 'MOT')\n",
    "    words29.append(words)"
   ]
  },
  {
   "cell_type": "code",
   "execution_count": 97,
   "metadata": {},
   "outputs": [],
   "source": [
    "import itertools\n",
    "words29Abe = list(itertools.chain.from_iterable(words29))"
   ]
  },
  {
   "cell_type": "code",
   "execution_count": 98,
   "metadata": {
    "collapsed": true
   },
   "outputs": [],
   "source": [
    "fw29mother = FreqDist(words29Abe)"
   ]
  },
  {
   "cell_type": "code",
   "execution_count": 99,
   "metadata": {},
   "outputs": [
    {
     "data": {
      "text/plain": [
       "286"
      ]
     },
     "execution_count": 99,
     "metadata": {},
     "output_type": "execute_result"
    }
   ],
   "source": [
    "len(fw29mother)"
   ]
  },
  {
   "cell_type": "code",
   "execution_count": 100,
   "metadata": {
    "collapsed": true
   },
   "outputs": [],
   "source": [
    "zipfword29 = fw29mother.most_common(286)\n",
    "dfword29 = DataFrame(zipfword29)\n",
    "dfword29.columns = ['word_29','count']"
   ]
  },
  {
   "cell_type": "code",
   "execution_count": 102,
   "metadata": {
    "collapsed": true
   },
   "outputs": [],
   "source": [
    "dfword29['rank'] = list(range(1,287))"
   ]
  },
  {
   "cell_type": "code",
   "execution_count": 101,
   "metadata": {
    "collapsed": true
   },
   "outputs": [
    {
     "data": {
      "image/png": "[encoded data removed]",
      "text/plain": [
       "<Figure size 1080x720 with 1 Axes>"
      ]
     },
     "metadata": {},
     "output_type": "display_data"
    }
   ],
   "source": [
    "count = dfword29[['count']].plot(kind = 'bar', title = 'distribution', figsize = (15,10), legend = True)\n",
    "count.set_xlabel('word_29',fontsize = 12)\n",
    "count.set_ylabel('count',fontsize = 12)\n",
    "plt.show()"
   ]
  },
  {
   "cell_type": "code",
   "execution_count": 103,
   "metadata": {
    "collapsed": true
   },
   "outputs": [],
   "source": [
    "dfword29.to_csv('/Users/Ershui13/Desktop/dfword29.csv',index=False)"
   ]
  },
  {
   "cell_type": "code",
   "execution_count": null,
   "metadata": {
    "collapsed": true
   },
   "outputs": [],
   "source": []
  }
 ],
 "metadata": {
  "kernelspec": {
   "display_name": "Python 3",
   "language": "python",
   "name": "python3"
  },
  "language_info": {
   "codemirror_mode": {
    "name": "ipython",
    "version": 3
   },
   "file_extension": ".py",
   "mimetype": "text/x-python",
   "name": "python",
   "nbconvert_exporter": "python",
   "pygments_lexer": "ipython3",
   "version": "3.6.8"
  }
 },
 "nbformat": 4,
 "nbformat_minor": 2
}
